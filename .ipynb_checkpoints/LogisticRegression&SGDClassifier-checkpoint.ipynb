{
 "cells": [
  {
   "cell_type": "code",
   "execution_count": 57,
   "metadata": {},
   "outputs": [
    {
     "name": "stdout",
     "output_type": "stream",
     "text": [
      "     PassengerId  Survived  Pclass  Sex   Age  SibSp  Parch     Fare  Embarked\n",
      "1              2         1       1    1  38.0      1      0  71.2833         0\n",
      "3              4         1       1    1  35.0      1      0  53.1000         2\n",
      "6              7         0       1    0  54.0      0      0  51.8625         2\n",
      "10            11         1       3    1   4.0      1      1  16.7000         2\n",
      "11            12         1       1    1  58.0      0      0  26.5500         2\n",
      "..           ...       ...     ...  ...   ...    ...    ...      ...       ...\n",
      "871          872         1       1    1  47.0      1      1  52.5542         2\n",
      "872          873         0       1    0  33.0      0      0   5.0000         2\n",
      "879          880         1       1    1  56.0      0      1  83.1583         0\n",
      "887          888         1       1    1  19.0      0      0  30.0000         2\n",
      "889          890         1       1    0  26.0      0      0  30.0000         0\n",
      "\n",
      "[183 rows x 9 columns]\n"
     ]
    }
   ],
   "source": [
    "# 导入pandas与numpy工具包。\n",
    "import pandas as pd\n",
    "import numpy as np\n",
    "\n",
    "# 使用pandas.read_csv函数从互联网读取指定数据。\n",
    "data = pd.read_csv('titanic_data.csv')\n",
    "\n",
    "column_names = ['PassengerId', 'Survived', 'Pclass','Sex', 'Age', 'SibSp', 'Parch','Fare','Embarked']\n",
    "\n",
    "# 将?替换为标准缺失值表示。\n",
    "data = data.replace(to_replace='?', value=np.nan)\n",
    "# 丢弃带有缺失值的数据（只要有一个维度有缺失）。\n",
    "data = data.dropna(how='any')\n",
    "#将性别的男和女转化为0和1,0代表男，1代表女\n",
    "data = data.replace(to_replace='male', value=0)\n",
    "data = data.replace(to_replace='female', value=1)\n",
    "data = data.replace(to_replace='C', value=0)\n",
    "data = data.replace(to_replace='Q', value=1)\n",
    "data = data.replace(to_replace='S', value=2)\n",
    "data = data.drop(columns = 'Ticket')\n",
    "data = data.drop(columns = 'Cabin')\n",
    "data = data.drop(columns = 'Name')\n",
    "\n",
    "# 输出data\n",
    "print(data)\n"
   ]
  },
  {
   "cell_type": "code",
   "execution_count": 58,
   "metadata": {},
   "outputs": [],
   "source": [
    "# 使用sklearn.cross_valiation里的train_test_split模块用于分割数据。\n",
    "from sklearn.model_selection import train_test_split\n",
    "\n",
    "# 随机采样25%的数据用于测试，剩下的75%用于构建训练集合。\n",
    "X_train, X_test, y_train, y_test = train_test_split(data[column_names[2:9]], data[column_names[1]], test_size=0.25, random_state=33)"
   ]
  },
  {
   "cell_type": "code",
   "execution_count": 59,
   "metadata": {},
   "outputs": [],
   "source": [
    "# 从sklearn.preprocessing里导入StandardScaler。\n",
    "from sklearn.preprocessing import StandardScaler\n",
    "# 从sklearn.linear_model里导入LogisticRegression与SGDClassifier。\n",
    "from sklearn.linear_model import LogisticRegression\n",
    "from sklearn.linear_model import SGDClassifier\n",
    "\n",
    "# 标准化数据，保证每个维度的特征数据方差为1，均值为0。使得预测结果不会被某些维度过大的特征值而主导。\n",
    "ss = StandardScaler()\n",
    "X_train = ss.fit_transform(X_train)\n",
    "X_test = ss.transform(X_test)"
   ]
  },
  {
   "cell_type": "code",
   "execution_count": 60,
   "metadata": {},
   "outputs": [],
   "source": [
    "# 初始化LogisticRegression与SGDClassifier。\n",
    "lr = LogisticRegression()\n",
    "sgdc = SGDClassifier()\n",
    "\n",
    "# 调用LogisticRegression中的fit函数/模块用来训练模型参数。\n",
    "lr.fit(X_train, y_train)\n",
    "# 使用训练好的模型lr对X_test进行预测，结果储存在变量lr_y_predict中。\n",
    "lr_y_predict = lr.predict(X_test)\n",
    "\n",
    "# 调用SGDClassifier中的fit函数/模块用来训练模型参数。\n",
    "sgdc.fit(X_train, y_train)\n",
    "# 使用训练好的模型sgdc对X_test进行预测，结果储存在变量sgdc_y_predict中。\n",
    "sgdc_y_predict = sgdc.predict(X_test)\n"
   ]
  },
  {
   "cell_type": "code",
   "execution_count": 61,
   "metadata": {},
   "outputs": [
    {
     "name": "stdout",
     "output_type": "stream",
     "text": [
      "Accuracy of LR Classifier: 0.7608695652173914\n",
      "              precision    recall  f1-score   support\n",
      "\n",
      "      Benign       0.60      0.80      0.69        15\n",
      "   Malignant       0.88      0.74      0.81        31\n",
      "\n",
      "    accuracy                           0.76        46\n",
      "   macro avg       0.74      0.77      0.75        46\n",
      "weighted avg       0.79      0.76      0.77        46\n",
      "\n"
     ]
    }
   ],
   "source": [
    "# 从sklearn.metrics里导入classification_report模块。\n",
    "from sklearn.metrics import classification_report\n",
    "\n",
    "# 使用逻辑斯蒂回归模型自带的评分函数score获得模型在测试集上的准确性结果。\n",
    "print( 'Accuracy of LR Classifier:', lr.score(X_test, y_test))\n",
    "# 利用classification_report模块获得LogisticRegression其他三个指标的结果。\n",
    "print (classification_report(y_test, lr_y_predict, target_names=['Benign', 'Malignant']))"
   ]
  },
  {
   "cell_type": "code",
   "execution_count": 62,
   "metadata": {},
   "outputs": [
    {
     "name": "stdout",
     "output_type": "stream",
     "text": [
      "Accuarcy of SGD Classifier: 0.717391304347826\n",
      "              precision    recall  f1-score   support\n",
      "\n",
      "      Benign       0.55      0.80      0.65        15\n",
      "   Malignant       0.88      0.68      0.76        31\n",
      "\n",
      "    accuracy                           0.72        46\n",
      "   macro avg       0.71      0.74      0.71        46\n",
      "weighted avg       0.77      0.72      0.73        46\n",
      "\n"
     ]
    }
   ],
   "source": [
    " # 使用随机梯度下降模型自带的评分函数score获得模型在测试集上的准确性结果。\n",
    "print ('Accuarcy of SGD Classifier:', sgdc.score(X_test, y_test))\n",
    "# 利用classification_report模块获得SGDClassifier其他三个指标的结果。\n",
    "print (classification_report(y_test, sgdc_y_predict, target_names=['Benign', 'Malignant']))"
   ]
  },
  {
   "cell_type": "code",
   "execution_count": null,
   "metadata": {},
   "outputs": [],
   "source": []
  },
  {
   "cell_type": "code",
   "execution_count": null,
   "metadata": {},
   "outputs": [],
   "source": []
  }
 ],
 "metadata": {
  "kernelspec": {
   "display_name": "Python 3",
   "language": "python",
   "name": "python3"
  },
  "language_info": {
   "codemirror_mode": {
    "name": "ipython",
    "version": 3
   },
   "file_extension": ".py",
   "mimetype": "text/x-python",
   "name": "python",
   "nbconvert_exporter": "python",
   "pygments_lexer": "ipython3",
   "version": "3.8.3"
  }
 },
 "nbformat": 4,
 "nbformat_minor": 4
}
